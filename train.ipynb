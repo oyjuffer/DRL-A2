{
 "cells": [
  {
   "attachments": {},
   "cell_type": "markdown",
   "metadata": {},
   "source": [
    "# DRL - Assignment2\n",
    "## Train a Proximal Policy Optimization (PPO) algorithm on the SpaceInvadersNoFrameskip-v4 \n",
    "### Yorick Juffer, Alejandro Sánchez Roncero\n"
   ]
  },
  {
   "cell_type": "code",
   "execution_count": 1,
   "metadata": {},
   "outputs": [],
   "source": [
    "import gym\n",
    "from stable_baselines3 import PPO\n",
    "from stable_baselines3.common.vec_env import DummyVecEnv, VecFrameStack, VecTransposeImage\n",
    "from stable_baselines3.common.evaluation import evaluate_policy\n",
    "from stable_baselines3.common.atari_wrappers import AtariWrapper \n",
    "from stable_baselines3.common.monitor import Monitor, ResultsWriter\n",
    "from stable_baselines3.common.callbacks import EvalCallback, CheckpointCallback, StopTrainingOnNoModelImprovement\n",
    "\n",
    "import pandas as pd\n",
    "import numpy as np\n",
    "import matplotlib.pyplot as plt"
   ]
  },
  {
   "cell_type": "code",
   "execution_count": 6,
   "metadata": {},
   "outputs": [],
   "source": [
    "# Hyperparameters\n",
    "env_id = 'SpaceInvadersNoFrameskip-v4'\n",
    "model_id = \"ppo_space_invaders\"\n",
    "paths = {'log': './logs/', 'monitor': './monitor/', 'model': './models/'}\n",
    "case_id = \"00\"\n",
    "total_timesteps = 1e4 # total number of timesteps\n",
    "eval_freq = 5000 \n",
    "n_eval_episodes = 10 # Number of evaluation episodes\n",
    "frame_skip = 1\n",
    "max_no_improvement_evals = 5\n"
   ]
  },
  {
   "cell_type": "code",
   "execution_count": 7,
   "metadata": {},
   "outputs": [],
   "source": [
    "# Environment:\n",
    "# - \"rgb\" -> observation_space=Box(0, 255, (width=210, height=160, channels=3), np.uint8)\n",
    "# - frameskip=1\n",
    "# - repeat_prob=0\n",
    "\n",
    "# Create the environment\n",
    "env = gym.make(env_id) # difficulty: 0, mode: 0, 6 discrete actions\n",
    "env = Monitor(env, filename=(paths['monitor']+case_id))\n",
    "\n",
    "# Resize to a square image: 84x84 by default\n",
    "# Grayscale observation\n",
    "# Clip reward to {-1, 0, 1}\n",
    "env = AtariWrapper(env, frame_skip=frame_skip, action_repeat_probability=0.0) \n",
    "env = DummyVecEnv([lambda: env])  # The algorithms require a vectorized environment to run\n",
    "env = VecFrameStack(env, n_stack=4)  # Stack 4 frames together, to give the agent a sense of motion\n",
    "env = VecTransposeImage(env)  # Transpose the image to (color_channels, height, width)\n",
    "env.metadata[\"render_fps\"] = 30"
   ]
  },
  {
   "cell_type": "code",
   "execution_count": 8,
   "metadata": {},
   "outputs": [
    {
     "name": "stdout",
     "output_type": "stream",
     "text": [
      "Using cpu device\n"
     ]
    }
   ],
   "source": [
    "# CNN is more suitable here since Atary games have image-bases observations\n",
    "model = PPO(\"CnnPolicy\", env, verbose=1)"
   ]
  },
  {
   "cell_type": "code",
   "execution_count": 9,
   "metadata": {},
   "outputs": [
    {
     "data": {
      "application/vnd.jupyter.widget-view+json": {
       "model_id": "dc5cd35a15c6491e99ad1742f43670b3",
       "version_major": 2,
       "version_minor": 0
      },
      "text/plain": [
       "Output()"
      ]
     },
     "metadata": {},
     "output_type": "display_data"
    },
    {
     "name": "stdout",
     "output_type": "stream",
     "text": [
      "---------------------------------\n",
      "| rollout/           |          |\n",
      "|    ep_len_mean     | 1.9e+03  |\n",
      "|    ep_rew_mean     | 105      |\n",
      "| time/              |          |\n",
      "|    fps             | 403      |\n",
      "|    iterations      | 1        |\n",
      "|    time_elapsed    | 5        |\n",
      "|    total_timesteps | 2048     |\n",
      "---------------------------------\n"
     ]
    },
    {
     "name": "stdout",
     "output_type": "stream",
     "text": [
      "-----------------------------------------\n",
      "| rollout/                |             |\n",
      "|    ep_len_mean          | 2e+03       |\n",
      "|    ep_rew_mean          | 130         |\n",
      "| time/                   |             |\n",
      "|    fps                  | 143         |\n",
      "|    iterations           | 2           |\n",
      "|    time_elapsed         | 28          |\n",
      "|    total_timesteps      | 4096        |\n",
      "| train/                  |             |\n",
      "|    approx_kl            | 0.010175145 |\n",
      "|    clip_fraction        | 0.0698      |\n",
      "|    clip_range           | 0.2         |\n",
      "|    entropy_loss         | -1.78       |\n",
      "|    explained_variance   | 0.0514      |\n",
      "|    learning_rate        | 0.0003      |\n",
      "|    loss                 | 0.0124      |\n",
      "|    n_updates            | 10          |\n",
      "|    policy_gradient_loss | -0.00876    |\n",
      "|    value_loss           | 0.0162      |\n",
      "-----------------------------------------\n"
     ]
    },
    {
     "data": {
      "text/html": [
       "<pre style=\"white-space:pre;overflow-x:auto;line-height:normal;font-family:Menlo,'DejaVu Sans Mono',consolas,'Courier New',monospace\">Eval num_timesteps=5000, episode_reward=198.00 +/- 156.00\n",
       "</pre>\n"
      ],
      "text/plain": [
       "Eval num_timesteps=5000, episode_reward=198.00 +/- 156.00\n"
      ]
     },
     "metadata": {},
     "output_type": "display_data"
    },
    {
     "data": {
      "text/html": [
       "<pre style=\"white-space:pre;overflow-x:auto;line-height:normal;font-family:Menlo,'DejaVu Sans Mono',consolas,'Courier New',monospace\">Episode length: 2221.20 +/- 734.40\n",
       "</pre>\n"
      ],
      "text/plain": [
       "Episode length: 2221.20 +/- 734.40\n"
      ]
     },
     "metadata": {},
     "output_type": "display_data"
    },
    {
     "name": "stdout",
     "output_type": "stream",
     "text": [
      "-----------------------------------------\n",
      "| eval/                   |             |\n",
      "|    mean_ep_length       | 2.22e+03    |\n",
      "|    mean_reward          | 198         |\n",
      "| time/                   |             |\n",
      "|    total_timesteps      | 5000        |\n",
      "| train/                  |             |\n",
      "|    approx_kl            | 0.021766283 |\n",
      "|    clip_fraction        | 0.198       |\n",
      "|    clip_range           | 0.2         |\n",
      "|    entropy_loss         | -1.77       |\n",
      "|    explained_variance   | 0.226       |\n",
      "|    learning_rate        | 0.0003      |\n",
      "|    loss                 | -0.0354     |\n",
      "|    n_updates            | 20          |\n",
      "|    policy_gradient_loss | -0.0192     |\n",
      "|    value_loss           | 0.0158      |\n",
      "-----------------------------------------\n"
     ]
    },
    {
     "data": {
      "text/html": [
       "<pre style=\"white-space:pre;overflow-x:auto;line-height:normal;font-family:Menlo,'DejaVu Sans Mono',consolas,'Courier New',monospace\">New best mean reward!\n",
       "</pre>\n"
      ],
      "text/plain": [
       "New best mean reward!\n"
      ]
     },
     "metadata": {},
     "output_type": "display_data"
    },
    {
     "name": "stdout",
     "output_type": "stream",
     "text": [
      "---------------------------------\n",
      "| rollout/           |          |\n",
      "|    ep_len_mean     | 2e+03    |\n",
      "|    ep_rew_mean     | 130      |\n",
      "| time/              |          |\n",
      "|    fps             | 80       |\n",
      "|    iterations      | 3        |\n",
      "|    time_elapsed    | 76       |\n",
      "|    total_timesteps | 6144     |\n",
      "---------------------------------\n"
     ]
    },
    {
     "name": "stdout",
     "output_type": "stream",
     "text": [
      "-----------------------------------------\n",
      "| rollout/                |             |\n",
      "|    ep_len_mean          | 2.09e+03    |\n",
      "|    ep_rew_mean          | 123         |\n",
      "| time/                   |             |\n",
      "|    fps                  | 82          |\n",
      "|    iterations           | 4           |\n",
      "|    time_elapsed         | 99          |\n",
      "|    total_timesteps      | 8192        |\n",
      "| train/                  |             |\n",
      "|    approx_kl            | 0.022247951 |\n",
      "|    clip_fraction        | 0.22        |\n",
      "|    clip_range           | 0.2         |\n",
      "|    entropy_loss         | -1.76       |\n",
      "|    explained_variance   | 0.177       |\n",
      "|    learning_rate        | 0.0003      |\n",
      "|    loss                 | -0.0439     |\n",
      "|    n_updates            | 30          |\n",
      "|    policy_gradient_loss | -0.0239     |\n",
      "|    value_loss           | 0.0169      |\n",
      "-----------------------------------------\n"
     ]
    },
    {
     "data": {
      "text/html": [
       "<pre style=\"white-space:pre;overflow-x:auto;line-height:normal;font-family:Menlo,'DejaVu Sans Mono',consolas,'Courier New',monospace\">Eval num_timesteps=10000, episode_reward=105.00 +/- 0.00\n",
       "</pre>\n"
      ],
      "text/plain": [
       "Eval num_timesteps=10000, episode_reward=105.00 +/- 0.00\n"
      ]
     },
     "metadata": {},
     "output_type": "display_data"
    },
    {
     "data": {
      "text/html": [
       "<pre style=\"white-space:pre;overflow-x:auto;line-height:normal;font-family:Menlo,'DejaVu Sans Mono',consolas,'Courier New',monospace\">Episode length: 1972.00 +/- 0.00\n",
       "</pre>\n"
      ],
      "text/plain": [
       "Episode length: 1972.00 +/- 0.00\n"
      ]
     },
     "metadata": {},
     "output_type": "display_data"
    },
    {
     "name": "stdout",
     "output_type": "stream",
     "text": [
      "-----------------------------------------\n",
      "| eval/                   |             |\n",
      "|    mean_ep_length       | 1.97e+03    |\n",
      "|    mean_reward          | 105         |\n",
      "| time/                   |             |\n",
      "|    total_timesteps      | 10000       |\n",
      "| train/                  |             |\n",
      "|    approx_kl            | 0.020562118 |\n",
      "|    clip_fraction        | 0.221       |\n",
      "|    clip_range           | 0.2         |\n",
      "|    entropy_loss         | -1.75       |\n",
      "|    explained_variance   | 0.396       |\n",
      "|    learning_rate        | 0.0003      |\n",
      "|    loss                 | -0.0105     |\n",
      "|    n_updates            | 40          |\n",
      "|    policy_gradient_loss | -0.029      |\n",
      "|    value_loss           | 0.013       |\n",
      "-----------------------------------------\n"
     ]
    },
    {
     "name": "stdout",
     "output_type": "stream",
     "text": [
      "---------------------------------\n",
      "| rollout/           |          |\n",
      "|    ep_len_mean     | 2.26e+03 |\n",
      "|    ep_rew_mean     | 145      |\n",
      "| time/              |          |\n",
      "|    fps             | 71       |\n",
      "|    iterations      | 5        |\n",
      "|    time_elapsed    | 143      |\n",
      "|    total_timesteps | 10240    |\n",
      "---------------------------------\n"
     ]
    },
    {
     "data": {
      "text/html": [
       "<pre style=\"white-space:pre;overflow-x:auto;line-height:normal;font-family:Menlo,'DejaVu Sans Mono',consolas,'Courier New',monospace\"></pre>\n"
      ],
      "text/plain": []
     },
     "metadata": {},
     "output_type": "display_data"
    },
    {
     "data": {
      "text/html": [
       "<pre style=\"white-space:pre;overflow-x:auto;line-height:normal;font-family:Menlo,'DejaVu Sans Mono',consolas,'Courier New',monospace\">\n",
       "</pre>\n"
      ],
      "text/plain": [
       "\n"
      ]
     },
     "metadata": {},
     "output_type": "display_data"
    }
   ],
   "source": [
    "# Train the agent\n",
    "\n",
    "stop_train_callback = StopTrainingOnNoModelImprovement(\n",
    "     max_no_improvement_evals=max_no_improvement_evals, \n",
    "     min_evals=5, \n",
    "     verbose=1)\n",
    "\n",
    "eval_callback = EvalCallback(env, \n",
    "                             best_model_save_path=(paths['model']+case_id), \n",
    "                             log_path=(paths['log']+case_id),\n",
    "                             eval_freq=eval_freq,\n",
    "                             deterministic=True, \n",
    "                             render=False,\n",
    "                             callback_after_eval=stop_train_callback, \n",
    "                             verbose=1\n",
    "                        )\n",
    "\n",
    "model.learn(total_timesteps=total_timesteps, \n",
    "            callback=eval_callback,\n",
    "            progress_bar=True\n",
    "            )\n",
    "model.save(model_id)"
   ]
  },
  {
   "cell_type": "code",
   "execution_count": 10,
   "metadata": {},
   "outputs": [
    {
     "name": "stdout",
     "output_type": "stream",
     "text": [
      "Evaluation reward: (Avg, Std) -> (147.00, 111.00)\n"
     ]
    }
   ],
   "source": [
    "# Evaluate model on n_eval_episodes and calculate the average and std reward\n",
    "mean_r, std_r = evaluate_policy(model, env, \n",
    "                n_eval_episodes=n_eval_episodes,\n",
    "                deterministic=True,\n",
    "                return_episode_rewards=False,\n",
    "                render=False)\n",
    "print(\"Evaluation reward: (Avg, Std) -> ({:.2f}, {:.2f})\".format(mean_r, std_r))"
   ]
  },
  {
   "cell_type": "code",
   "execution_count": 11,
   "metadata": {},
   "outputs": [
    {
     "data": {
      "image/png": "[encoded data removed]",
      "text/plain": [
       "<Figure size 640x480 with 1 Axes>"
      ]
     },
     "metadata": {},
     "output_type": "display_data"
    },
    {
     "data": {
      "image/png": "[encoded data removed]",
      "text/plain": [
       "<Figure size 640x480 with 1 Axes>"
      ]
     },
     "metadata": {},
     "output_type": "display_data"
    }
   ],
   "source": [
    "# Plot the average reward per episode\n",
    "\n",
    "csv = pd.read_csv(\"{}{}.monitor.csv\".format(paths[\"monitor\"], case_id), sep=\",\", header=1)\n",
    "\n",
    "plt.plot(np.array(csv[\"r\"]))\n",
    "plt.xlabel(\"# Episode\")\n",
    "plt.ylabel(\"Reward\")\n",
    "plt.grid()\n",
    "plt.show()\n",
    "\n",
    "plt.plot(np.array(csv[\"r\"]) / np.array(csv[\"l\"]))\n",
    "plt.xlabel(\"# Episode\")\n",
    "plt.ylabel(\"Average reward\")\n",
    "plt.grid()\n",
    "\n"
   ]
  },
  {
   "cell_type": "code",
   "execution_count": null,
   "metadata": {},
   "outputs": [],
   "source": [
    "# Cell 6\n",
    "# Define the hyperparameters grid\n",
    "hyperparams_grid = {\n",
    "    'n_steps': [128, 256, 512, 1024],\n",
    "    'learning_rate': [0.0001, 0.001, 0.01]\n",
    "}\n",
    "\n",
    "# Conduct the grid search\n",
    "best_mean_reward = -float('inf')\n",
    "best_hyperparams = None\n",
    "\n",
    "for n_steps in hyperparams_grid['n_steps']:\n",
    "    for learning_rate in hyperparams_grid['learning_rate']:\n",
    "        print(f\"Training with n_steps={n_steps}, learning_rate={learning_rate}\")\n",
    "        model = PPO(\"CnnPolicy\", env, verbose=0, n_steps=n_steps, learning_rate=learning_rate)\n",
    "        model.learn(total_timesteps=...)\n",
    "        mean_reward, _ = evaluate_policy(model, env, n_eval_episodes=10)\n",
    "        if mean_reward > best_mean_reward:\n",
    "            best_mean_reward = mean_reward\n",
    "            best_hyperparams = {'n_steps': n_steps, 'learning_rate': learning_rate}\n",
    "\n",
    "print(f\"Best mean reward: {best_mean_reward}, Best hyperparams: {best_hyperparams}\")\n"
   ]
  }
 ],
 "metadata": {
  "kernelspec": {
   "display_name": "Python 3",
   "language": "python",
   "name": "python3"
  },
  "language_info": {
   "codemirror_mode": {
    "name": "ipython",
    "version": 3
   },
   "file_extension": ".py",
   "mimetype": "text/x-python",
   "name": "python",
   "nbconvert_exporter": "python",
   "pygments_lexer": "ipython3",
   "version": "3.9.13"
  },
  "orig_nbformat": 4
 },
 "nbformat": 4,
 "nbformat_minor": 2
}
