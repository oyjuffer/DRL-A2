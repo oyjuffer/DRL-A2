{
 "cells": [
  {
   "cell_type": "code",
   "execution_count": 2,
   "metadata": {},
   "outputs": [],
   "source": [
    "import pandas as pd\n",
    "import numpy as np\n",
    "import os"
   ]
  },
  {
   "cell_type": "code",
   "execution_count": 5,
   "metadata": {},
   "outputs": [
    {
     "name": "stdout",
     "output_type": "stream",
     "text": [
      "Number of cases: 72\n"
     ]
    }
   ],
   "source": [
    "case_names = [case for case in os.listdir(\"params/\") if \"case\" in case]\n",
    "print(\"Number of cases: {}\".format(len(case_names)))"
   ]
  },
  {
   "cell_type": "code",
   "execution_count": 7,
   "metadata": {},
   "outputs": [],
   "source": [
    "df_list = []\n",
    "for case in case_names:\n",
    "    config_df = pd.read_excel(\"params/\"+case)\n",
    "    rewards_eval = np.load(\"results/rewards/eval_{}.npy\".format(case[0:case.find(\".\")]))\n",
    "    rewards_avg = np.mean(rewards_eval[-5:])\n",
    "    config_df[\"reward_avg\"] = rewards_avg\n",
    "    df_list.append(config_df)\n",
    "    \n",
    "df_cat = pd.concat(df_list)\n",
    "df_cat.to_excel(\"results/grid_search.xlsx\")\n",
    "    \n"
   ]
  }
 ],
 "metadata": {
  "kernelspec": {
   "display_name": "Python 3",
   "language": "python",
   "name": "python3"
  },
  "language_info": {
   "codemirror_mode": {
    "name": "ipython",
    "version": 3
   },
   "file_extension": ".py",
   "mimetype": "text/x-python",
   "name": "python",
   "nbconvert_exporter": "python",
   "pygments_lexer": "ipython3",
   "version": "3.9.13"
  },
  "orig_nbformat": 4
 },
 "nbformat": 4,
 "nbformat_minor": 2
}
