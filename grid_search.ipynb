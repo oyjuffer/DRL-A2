{
 "cells": [
  {
   "cell_type": "code",
   "execution_count": 1,
   "metadata": {},
   "outputs": [],
   "source": [
    "from sklearn.model_selection import ParameterGrid\n",
    "import pandas as pd\n",
    "import os\n",
    "import shutil\n",
    "\n",
    "parameters = {'learning_rate': [0.0003], \n",
    "              'n_steps': [2048, 4096], \n",
    "              'batch_size': [64],\n",
    "              'n_epochs': [10],\n",
    "              'gamma': [0.99, 0.995], \n",
    "              'vf_coef': [0.5, 0.2],\n",
    "              'total_timesteps': [2.5e5], \n",
    "              'eval_freq': [5000],\n",
    "              'n_eval_episodes': [10],\n",
    "              'frame_skip': [1, 4]\n",
    "              }\n",
    "\n",
    "cases = list(ParameterGrid(parameters))\n",
    "\n",
    "shutil.rmtree('./grid_search')\n",
    "os.mkdir('./grid_search')\n",
    "\n",
    "for case, c_iter in zip(cases, range(len(cases))):\n",
    "    output_name = 'case_{}'.format(c_iter)\n",
    "    hyperparams_file = output_name + \".xlsx\"\n",
    "    case['case_id'] = c_iter\n",
    "    pd.DataFrame(case, index=[0]).to_excel(\"grid_search/{}\".format(hyperparams_file))"
   ]
  },
  {
   "attachments": {},
   "cell_type": "markdown",
   "metadata": {},
   "source": [
    "## ALEX"
   ]
  },
  {
   "cell_type": "code",
   "execution_count": 2,
   "metadata": {},
   "outputs": [
    {
     "name": "stdout",
     "output_type": "stream",
     "text": [
      "Case: 1 out of 8\n"
     ]
    },
    {
     "data": {
      "application/vnd.jupyter.widget-view+json": {
       "model_id": "2af4bfae227142b6b6a678d3d9a171ef",
       "version_major": 2,
       "version_minor": 0
      },
      "text/plain": [
       "Output()"
      ]
     },
     "metadata": {},
     "output_type": "display_data"
    }
   ],
   "source": [
    "for c_iter in range(1, 8):\n",
    "    print(\"Case: {} out of 8\".format(c_iter))\n",
    "    output_name = 'case_{}'.format(c_iter)\n",
    "    hyperparams_file = output_name + \".xlsx\"\n",
    "    \n",
    "    %run ./train.ipynb\n"
   ]
  },
  {
   "attachments": {},
   "cell_type": "markdown",
   "metadata": {},
   "source": [
    "## YORICK"
   ]
  },
  {
   "cell_type": "code",
   "execution_count": null,
   "metadata": {},
   "outputs": [],
   "source": [
    "\n",
    "for c_iter in range(8, 16):\n",
    "    print(\"Case: {} out of 8\".format(c_iter))\n",
    "    output_name = 'case_{}'.format(c_iter)\n",
    "    hyperparams_file = output_name + \".xlsx\"\n",
    "    \n",
    "    %run ./train.ipynb\n"
   ]
  }
 ],
 "metadata": {
  "kernelspec": {
   "display_name": "Python 3",
   "language": "python",
   "name": "python3"
  },
  "language_info": {
   "codemirror_mode": {
    "name": "ipython",
    "version": 3
   },
   "file_extension": ".py",
   "mimetype": "text/x-python",
   "name": "python",
   "nbconvert_exporter": "python",
   "pygments_lexer": "ipython3",
   "version": "3.9.13"
  },
  "orig_nbformat": 4
 },
 "nbformat": 4,
 "nbformat_minor": 2
}
